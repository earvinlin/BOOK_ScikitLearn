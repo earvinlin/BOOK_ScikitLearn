{
 "cells": [
  {
   "cell_type": "markdown",
   "metadata": {},
   "source": [
    "# [新聞資料集](https://scikit-learn.org/stable/modules/generated/sklearn.datasets.fetch_20newsgroups.html#sklearn.datasets.fetch_20newsgroups)"
   ]
  },
  {
   "cell_type": "markdown",
   "metadata": {},
   "source": [
    "## 1. 載入相關套件"
   ]
  },
  {
   "cell_type": "code",
   "execution_count": 26,
   "metadata": {},
   "outputs": [],
   "source": [
    "\"\"\"\n",
    "REF ADDR : https://scikit-learn.org/stable/auto_examples/text/plot_document_classification_20newsgroups.html#sphx-glr-auto-examples-text-plot-document-classification-20newsgroups-py\n",
    "\"\"\"\n",
    "from time import time\n",
    "from sklearn.datasets import fetch_20newsgroups\n",
    "from sklearn.feature_extraction.text import TfidfVectorizer"
   ]
  },
  {
   "cell_type": "markdown",
   "metadata": {},
   "source": [
    "## 載入資料集"
   ]
  },
  {
   "cell_type": "code",
   "execution_count": 27,
   "metadata": {},
   "outputs": [],
   "source": [
    "# 篩選新聞類別\n",
    "categories = [\n",
    "    \"alt.atheism\",\n",
    "    \"talk.religion.misc\",\n",
    "    \"comp.graphics\",\n",
    "    \"sci.space\",\n",
    "]\n",
    "\n",
    "data_train = fetch_20newsgroups(\n",
    "    subset=\"train\",\n",
    "    categories=categories,\n",
    "    shuffle=True,\n",
    ")\n",
    "\n",
    "data_test = fetch_20newsgroups(\n",
    "    subset=\"test\",\n",
    "    categories=categories,\n",
    "    shuffle=True,\n",
    ")"
   ]
  },
  {
   "cell_type": "markdown",
   "metadata": {},
   "source": [
    "## 後續步驟可參閱 [Classification of text documents using sparse features](https://scikit-learn.org/stable/auto_examples/text/plot_document_classification_20newsgroups.html#sphx-glr-auto-examples-text-plot-document-classification-20newsgroups-py)"
   ]
  },
  {
   "cell_type": "code",
   "execution_count": 28,
   "metadata": {},
   "outputs": [
    {
     "name": "stdout",
     "output_type": "stream",
     "text": [
      "['alt.atheism', 'comp.graphics', 'sci.space', 'talk.religion.misc']\n"
     ]
    }
   ],
   "source": [
    "# order of labels in `target_names` can be different from `categories`\n",
    "target_names = data_train.target_names\n",
    "print(target_names)"
   ]
  },
  {
   "cell_type": "code",
   "execution_count": 29,
   "metadata": {},
   "outputs": [
    {
     "name": "stdout",
     "output_type": "stream",
     "text": [
      "[1 3 2 ... 1 0 1]\n",
      "[2 1 1 ... 3 1 1]\n"
     ]
    }
   ],
   "source": [
    "# split target in a training set and a test set\n",
    "y_train, y_test = data_train.target, data_test.target\n",
    "print(y_train)\n",
    "print(y_test)"
   ]
  },
  {
   "cell_type": "code",
   "execution_count": 30,
   "metadata": {},
   "outputs": [
    {
     "name": "stdout",
     "output_type": "stream",
     "text": [
      "0.22662997245788574\n"
     ]
    }
   ],
   "source": [
    "# Extracting features from the training data using a sparse vectorizer\n",
    "t0 = time()\n",
    "vectorizer = TfidfVectorizer(\n",
    "    sublinear_tf=True, max_df=0.5, min_df=5, stop_words=\"english\"\n",
    ")\n",
    "X_train = vectorizer.fit_transform(data_train.data)\n",
    "duration_train = time() - t0\n",
    "\n",
    "print(duration_train)"
   ]
  },
  {
   "cell_type": "code",
   "execution_count": 31,
   "metadata": {},
   "outputs": [
    {
     "name": "stdout",
     "output_type": "stream",
     "text": [
      "0.22662997245788574\n"
     ]
    }
   ],
   "source": [
    "# Extracting features from the test data using the same vectorizer\n",
    "t0 = time()\n",
    "X_test = vectorizer.transform(data_test.data)\n",
    "duration_test = time() - t0\n",
    "\n",
    "print(duration_train)"
   ]
  },
  {
   "cell_type": "code",
   "execution_count": 32,
   "metadata": {},
   "outputs": [],
   "source": [
    "feature_names = vectorizer.get_feature_names_out()\n",
    "verbose=False\n",
    "\n",
    "if verbose:\n",
    "    # compute size of loaded data\n",
    "    data_train_size_mb = size_mb(data_train.data)\n",
    "    data_test_size_mb = size_mb(data_test.data)\n",
    "\n",
    "    print(\n",
    "        f\"{len(data_train.data)} documents - \"\n",
    "        f\"{data_train_size_mb:.2f}MB (training set)\"\n",
    "    )\n",
    "    print(f\"{len(data_test.data)} documents - {data_test_size_mb:.2f}MB (test set)\")\n",
    "    print(f\"{len(target_names)} categories\")\n",
    "    print(\n",
    "        f\"vectorize training done in {duration_train:.3f}s \"\n",
    "        f\"at {data_train_size_mb / duration_train:.3f}MB/s\"\n",
    "    )\n",
    "    print(f\"n_samples: {X_train.shape[0]}, n_features: {X_train.shape[1]}\")\n",
    "    print(\n",
    "        f\"vectorize testing done in {duration_test:.3f}s \"\n",
    "        f\"at {data_test_size_mb / duration_test:.3f}MB/s\"\n",
    "    )\n",
    "    print(f\"n_samples: {X_test.shape[0]}, n_features: {X_test.shape[1]}\")\n",
    "\n"
   ]
  },
  {
   "cell_type": "code",
   "execution_count": 33,
   "metadata": {},
   "outputs": [
    {
     "name": "stdout",
     "output_type": "stream",
     "text": [
      "X_train= \n",
      "   (0, 2517)\t0.18882559857168102\n",
      "  (0, 453)\t0.14810906626622972\n",
      "  (0, 7330)\t0.13783664104130097\n",
      "  (0, 254)\t0.34404631756778353\n",
      "  (0, 2276)\t0.07033982375105988\n",
      "  (0, 7070)\t0.2944436581666543\n",
      "  (0, 6173)\t0.17819540353245403\n",
      "  (0, 166)\t0.08658058224839943\n",
      "  (0, 3457)\t0.09233043938439052\n",
      "  (0, 7504)\t0.06709283290470455\n",
      "  (0, 4906)\t0.13276131063021313\n",
      "  (0, 6245)\t0.17819540353245403\n",
      "  (0, 4650)\t0.10645464205726671\n",
      "  (0, 4406)\t0.1270798399040038\n",
      "  (0, 5370)\t0.13150813563613234\n",
      "  (0, 1353)\t0.12609338927283967\n",
      "  (0, 2927)\t0.24787945867395397\n",
      "  (0, 3223)\t0.08031114792141571\n",
      "  (0, 2133)\t0.1369871763301335\n",
      "  (0, 5453)\t0.09571658744266878\n",
      "  (0, 5091)\t0.23464700210776418\n",
      "  (0, 5454)\t0.12336340331196224\n",
      "  (0, 2395)\t0.09339764418615404\n",
      "  (0, 4048)\t0.05087600635720216\n",
      "  (0, 3720)\t0.1320941585100957\n",
      "  :\t:\n",
      "  (2033, 2040)\t0.15208661467341683\n",
      "  (2033, 5540)\t0.10109677643672658\n",
      "  (2033, 2870)\t0.1628784470588461\n",
      "  (2033, 5478)\t0.11827544273835017\n",
      "  (2033, 252)\t0.22003887239477773\n",
      "  (2033, 5592)\t0.10332269334077968\n",
      "  (2033, 7810)\t0.11923436760256882\n",
      "  (2033, 1129)\t0.13058338328547434\n",
      "  (2033, 3878)\t0.08531422252778238\n",
      "  (2033, 3522)\t0.11923436760256882\n",
      "  (2033, 4009)\t0.10285875594597989\n",
      "  (2033, 5407)\t0.09586417436344531\n",
      "  (2033, 3652)\t0.13058338328547434\n",
      "  (2033, 2415)\t0.13624317273205497\n",
      "  (2033, 4407)\t0.2568637129022245\n",
      "  (2033, 6448)\t0.1323100851786834\n",
      "  (2033, 6422)\t0.141056882858943\n",
      "  (2033, 1681)\t0.1235632874984238\n",
      "  (2033, 6157)\t0.11827544273835017\n",
      "  (2033, 5765)\t0.1385160368959943\n",
      "  (2033, 2660)\t0.14726283457625391\n",
      "  (2033, 6821)\t0.2618990981082497\n",
      "  (2033, 4698)\t0.13624317273205497\n",
      "  (2033, 7447)\t0.14726283457625391\n",
      "  (2033, 704)\t0.3090475943058255\n",
      "X_test= \n",
      "   (0, 467)\t0.3353738877244087\n",
      "  (0, 799)\t0.21523426839416257\n",
      "  (0, 865)\t0.2673450670013926\n",
      "  (0, 1659)\t0.1954871650495683\n",
      "  (0, 2296)\t0.3163694129368294\n",
      "  (0, 2367)\t0.1208244571000606\n",
      "  (0, 2790)\t0.20689598854070673\n",
      "  (0, 3301)\t0.24693460746966975\n",
      "  (0, 3520)\t0.08184263820372951\n",
      "  (0, 4488)\t0.23287212620174239\n",
      "  (0, 4622)\t0.2702966666917211\n",
      "  (0, 4812)\t0.20394438885037824\n",
      "  (0, 4832)\t0.24041962450948415\n",
      "  (0, 4877)\t0.08234029188431777\n",
      "  (0, 5033)\t0.19792688596902314\n",
      "  (0, 5222)\t0.3180528327373485\n",
      "  (0, 5465)\t0.07882612165086368\n",
      "  (0, 5493)\t0.1954871650495683\n",
      "  (0, 5608)\t0.18043963396816742\n",
      "  (0, 6287)\t0.17519564946519955\n",
      "  (0, 7420)\t0.15767991168205966\n",
      "  (1, 453)\t0.25229332206811533\n",
      "  (1, 548)\t0.16980375538516473\n",
      "  (1, 943)\t0.13915518952334116\n",
      "  (1, 1602)\t0.2200632914294637\n",
      "  :\t:\n",
      "  (1352, 1861)\t0.1573717365601751\n",
      "  (1352, 2481)\t0.33205240598646213\n",
      "  (1352, 2863)\t0.22104564845535019\n",
      "  (1352, 2865)\t0.10428024986356703\n",
      "  (1352, 2901)\t0.19611550005750128\n",
      "  (1352, 3039)\t0.13434950896472747\n",
      "  (1352, 3284)\t0.0993332689342236\n",
      "  (1352, 3434)\t0.0971310395096884\n",
      "  (1352, 3457)\t0.12166752901961028\n",
      "  (1352, 3520)\t0.05465735733683781\n",
      "  (1352, 3591)\t0.3171754195714076\n",
      "  (1352, 3929)\t0.13717083976152675\n",
      "  (1352, 3976)\t0.06474958000748092\n",
      "  (1352, 4359)\t0.1709147564010635\n",
      "  (1352, 4823)\t0.1293857417188973\n",
      "  (1352, 4877)\t0.054989707755237024\n",
      "  (1352, 4928)\t0.11039063448225005\n",
      "  (1352, 5465)\t0.05264282277684411\n",
      "  (1352, 6516)\t0.15055632955156031\n",
      "  (1352, 6546)\t0.19239470803984285\n",
      "  (1352, 6599)\t0.11273303435063478\n",
      "  (1352, 7077)\t0.0923470728389514\n",
      "  (1352, 7100)\t0.09532630434083501\n",
      "  (1352, 7382)\t0.06062520702141704\n",
      "  (1352, 7449)\t0.18051350521655493\n",
      "y_train= \n",
      " [1 3 2 ... 1 0 1]\n",
      "y_test= \n",
      " [2 1 1 ... 3 1 1]\n",
      "feature_names= \n",
      " ['00' '000' '0005' ... 'zoo' 'zoology' 'zyeh']\n",
      "target_names= \n",
      " ['alt.atheism', 'comp.graphics', 'sci.space', 'talk.religion.misc']\n"
     ]
    }
   ],
   "source": [
    "print(\"X_train= \\n\", X_train)\n",
    "print(\"X_test= \\n\", X_test)\n",
    "print(\"y_train= \\n\", y_train)\n",
    "print(\"y_test= \\n\", y_test)\n",
    "print(\"feature_names= \\n\", feature_names)\n",
    "print(\"target_names= \\n\", target_names)"
   ]
  },
  {
   "cell_type": "code",
   "execution_count": null,
   "metadata": {},
   "outputs": [],
   "source": []
  }
 ],
 "metadata": {
  "kernelspec": {
   "display_name": "Python 3 (ipykernel)",
   "language": "python",
   "name": "python3"
  },
  "language_info": {
   "codemirror_mode": {
    "name": "ipython",
    "version": 3
   },
   "file_extension": ".py",
   "mimetype": "text/x-python",
   "name": "python",
   "nbconvert_exporter": "python",
   "pygments_lexer": "ipython3",
   "version": "3.12.2"
  }
 },
 "nbformat": 4,
 "nbformat_minor": 4
}
